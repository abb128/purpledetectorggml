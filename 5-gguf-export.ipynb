{
 "cells": [
  {
   "cell_type": "code",
   "execution_count": 1,
   "metadata": {},
   "outputs": [],
   "source": [
    "import numpy as np\n",
    "weights = np.load(\"weights.npy\", allow_pickle=True).item()"
   ]
  },
  {
   "cell_type": "code",
   "execution_count": 2,
   "metadata": {},
   "outputs": [],
   "source": [
    "from gguf import GGUFWriter\n",
    "\n",
    "architecture = \"purpledetector\"\n",
    "gguf = GGUFWriter(\"weights.gguf\", architecture)\n",
    "\n",
    "gguf.add_name(\"weights\")\n",
    "gguf.add_description(\"description here\")\n",
    "\n",
    "gguf.add_uint32(\"input_width\", 64)\n",
    "gguf.add_uint32(\"layer_count\", 2)\n",
    "\n",
    "for k, v in weights.items():\n",
    "    gguf.add_tensor(k, v)\n",
    "\n",
    "gguf.write_header_to_file()\n",
    "gguf.write_kv_data_to_file()\n",
    "gguf.write_tensors_to_file()\n",
    "gguf.close()"
   ]
  },
  {
   "cell_type": "code",
   "execution_count": 3,
   "metadata": {},
   "outputs": [],
   "source": [
    "# To avoid having to load png and resize in C we'll just export to float binaries\n",
    "import glob\n",
    "from PIL import Image\n",
    "\n",
    "for f in glob.glob(\"*/*/*.png\"):\n",
    "    image = Image.open(f).convert('RGB')\n",
    "    image = image.resize((64, 128))\n",
    "    image = np.array(image) / 255.0\n",
    "    image = image.reshape(128, -1)\n",
    "    image = image.astype(np.float32)\n",
    "    \n",
    "    with open(f.replace(\".png\", \".bin\"), \"wb\") as out_f:\n",
    "        image.tofile(out_f)"
   ]
  }
 ],
 "metadata": {
  "kernelspec": {
   "display_name": "Python 3",
   "language": "python",
   "name": "python3"
  },
  "language_info": {
   "codemirror_mode": {
    "name": "ipython",
    "version": 3
   },
   "file_extension": ".py",
   "mimetype": "text/x-python",
   "name": "python",
   "nbconvert_exporter": "python",
   "pygments_lexer": "ipython3",
   "version": "3.12.7"
  }
 },
 "nbformat": 4,
 "nbformat_minor": 2
}
